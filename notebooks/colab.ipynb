{
  "cells": [
    {
      "cell_type": "markdown",
      "id": "6e3a43e0",
      "metadata": {
        "id": "setup_section"
      },
      "source": [
        "# Earthquake Prediction using Swarm AI and MARL\n",
        "\n",
        "First, let's install the required packages:"
      ]
    },
    {
      "cell_type": "code",
      "execution_count": null,
      "id": "ffe4bd46",
      "metadata": {
        "id": "install_packages"
      },
      "outputs": [],
      "source": [
        "!pip install pettingzoo gym stable-baselines3\n",
        "\n",
        "# Restart runtime if needed\n",
        "import os\n",
        "if not 'COLAB_GPU' in os.environ:\n",
        "    print('\\nPlease restart the runtime now by clicking Runtime -> Restart runtime\\n')"
      ]
    },
    {
      "cell_type": "code",
      "execution_count": null,
      "id": "bd2309b8",
      "metadata": {
        "id": "imports"
      },
      "outputs": [],
      "source": [
        "import numpy as np\n",
        "import pandas as pd\n",
        "import torch\n",
        "import torch.nn as nn\n",
        "import torch.nn.functional as F\n",
        "from torch.optim import Adam\n",
        "import matplotlib.pyplot as plt\n",
        "import seaborn as sns\n",
        "from datetime import datetime, timedelta\n",
        "from typing import Dict, List, Tuple\n",
        "import gym\n",
        "from pettingzoo import ParallelEnv\n",
        "from sklearn.preprocessing import StandardScaler\n",
        "\n",
        "# Set random seeds for reproducibility\n",
        "torch.manual_seed(42)\n",
        "np.random.seed(42)\n",
        "\n",
        "# Enable GPU if available\n",
        "device = torch.device('cuda' if torch.cuda.is_available() else 'cpu')\n",
        "print(f'Using device: {device}')"
      ]
    }
  ],
  "metadata": {
    "language_info": {
      "name": "python"
    }
  },
  "nbformat": 4,
  "nbformat_minor": 5
}
